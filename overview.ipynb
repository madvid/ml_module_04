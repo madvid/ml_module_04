{
 "cells": [
  {
   "cell_type": "markdown",
   "id": "727d6763-c2a7-472d-bd87-76b892277864",
   "metadata": {},
   "source": [
    "# Machine Learning module 04\n",
    "\n",
    "### Notions of the module\n",
    "Regularization, overfitting. Regularized loss function, regularized gradient descent.\n",
    "Regularized linear regression. Regularized logistic regression.\n",
    "\n",
    "### Useful Ressources\n",
    "You are strongly advise to use the following resource: Machine Learning MOOC - Stanford\n",
    "Here are the sections of the MOOC that are relevant for today’s exercises:\n",
    "* Week 3\n",
    "    * Solving the Problem of Overfitting\n",
    "        * Classification (Video + Reading)\n",
    "        * Hypothesis Representation (Video + Reading)\n",
    "        * Decision Boundary (Video + Reading)\n",
    "    * Logistic Regression Model\n",
    "        * Cost Function (Video + Reading)\n",
    "        * Simplified Cost Function and Gradient Descent (Video + Reading)\n",
    "    * Multiclass Classification\n",
    "        * Mutliclass Classification: One-vs-all (Video + Reading)\n",
    "        * Review (Reading + Quiz)"
   ]
  },
  {
   "cell_type": "markdown",
   "id": "8350d7d0-5400-457f-8af6-0339d55d95f0",
   "metadata": {},
   "source": [
    "## Exercise 00 Polynomial models II"
   ]
  },
  {
   "cell_type": "code",
   "execution_count": null,
   "id": "fc7e1f57-01b4-480c-b5f6-9a7c6c77dd4b",
   "metadata": {},
   "outputs": [],
   "source": [
    "import numpy as np\n",
    "from ex00.polynomial_model_extended import add_polynomial_features\n",
    "\n",
    "x = np.arange(1,11).reshape(5, 2)\n",
    "print(\"valeur de x:\\n\", x)\n",
    "\n",
    "print(\"# Example 1:\")\n",
    "my_res = add_polynomial_features(x, 3)\n",
    "expected_res = np.array([[1, 2, 1, 4, 1, 8],\n",
    "                         [3, 4, 9, 16, 27, 64],\n",
    "                         [5, 6, 25, 36, 125, 216],\n",
    "                         [7, 8, 49, 64, 343, 512],\n",
    "                         [9, 10, 81, 100, 729, 1000]])\n",
    "print(expected_res.dtype)\n",
    "print(\"my_res:\\n\", my_res)\n",
    "print(\"expected_res:\\n\", expected_res)\n",
    "\n",
    "print(\"# Example 2:\")\n",
    "my_res = add_polynomial_features(x, 5)\n",
    "expected_res = np.array([[1, 2, 1, 4, 1, 8, 1, 16, 1, 32],\n",
    "                         [3, 4, 9, 16, 27, 64, 81, 256, 243, 1024],\n",
    "                         [5, 6, 25, 36, 125, 216, 625, 1296, 3125, 7776],\n",
    "                         [7, 8, 49, 64, 343, 512, 2401, 4096, 16807, 32768],\n",
    "                         [9, 10, 81, 100, 729, 1000, 6561, 10000, 59049, 100000]])\n",
    "print(\"my_res:\\n\", my_res)\n",
    "print(\"expected_res:\\n\", expected_res)"
   ]
  },
  {
   "cell_type": "markdown",
   "id": "964898c1-36eb-4886-a8f6-46de3af9ec51",
   "metadata": {},
   "source": [
    "## Exercise 01: L2 Regularization"
   ]
  },
  {
   "cell_type": "code",
   "execution_count": null,
   "id": "638aab6b-d0b8-45d2-9859-ba882826522d",
   "metadata": {},
   "outputs": [],
   "source": [
    "import numpy as np\n",
    "from ex01.l2_reg import iterative_l2, l2\n",
    "\n",
    "def show_(my_res, expected_res):\n",
    "    print(\"My regularization:\".ljust(25), my_res)\n",
    "    print(\"Expected regularization:\".ljust(25), expected_res)\n",
    "\n",
    "x = np.array([[2],[ 14],[ -13],[ 5],[ 12],[ 4],[ -19]])\n",
    "\n",
    "print(\"# Example 1:\")\n",
    "my_res = iterative_l2(x)\n",
    "expected_res = 911.0\n",
    "show_(my_res, expected_res)\n",
    "\n",
    "print(\"\\n# Example 2:\")\n",
    "my_res = l2(x)\n",
    "expected_res = 911.0\n",
    "show_(my_res, expected_res)\n",
    "\n",
    "y = np.array([[3],[0.5],[-6]])\n",
    "print(\"\\n# Example 3:\")\n",
    "my_res = iterative_l2(y)\n",
    "expected_res = 36.25\n",
    "show_(my_res, expected_res)\n",
    "\n",
    "print(\"\\n# Example 4:\")\n",
    "my_res = l2(y)\n",
    "expected_res = 36.25\n",
    "show_(my_res, expected_res)\n"
   ]
  },
  {
   "cell_type": "markdown",
   "id": "b6a5dc1f-2adb-430b-96b2-fed2dc1561c6",
   "metadata": {},
   "source": [
    "## Exercise 02: Regularized Linear Loss Function "
   ]
  },
  {
   "cell_type": "code",
   "execution_count": null,
   "id": "ad744d26-76a3-44f0-ae50-09e410629ab2",
   "metadata": {},
   "outputs": [],
   "source": [
    "import numpy as np\n",
    "from ex02.linear_loss_reg import reg_loss_\n",
    "\n",
    "y = np.array([[2],[ 14],[ -13],[ 5],[ 12],[ 4],[ -19]])\n",
    "y_hat = np.array([[3],[ 13],[ -11.5],[ 5],[ 11],[ 5],[ -20]])\n",
    "theta = np.array([[1],[ 2.5],[ 1.5],[ -0.9]])\n",
    "\n",
    "def show_(my_res, expected_res):\n",
    "    print(\"My regularized linear loss:\".ljust(35), my_res)\n",
    "    print(\"Expected regularized linear loss:\".ljust(35), expected_res)\n",
    "\n",
    "print(\"# Example 1:\")\n",
    "my_res = reg_loss_(y, y_hat, theta, .5)\n",
    "expect_res = 0.8503571428571429\n",
    "show_(my_res, expect_res)\n",
    "\n",
    "print(\"\\n# Example 2:\")\n",
    "my_res = reg_loss_(y, y_hat, theta, .05)\n",
    "expect_res = 0.5511071428571429\n",
    "show_(my_res, expect_res)\n",
    "\n",
    "print(\"\\n# Example 3:\")\n",
    "my_res = reg_loss_(y, y_hat, theta, .9)\n",
    "expect_res = 1.116357142857143\n",
    "show_(my_res, expect_res)"
   ]
  },
  {
   "cell_type": "markdown",
   "id": "af9d6cec-3259-447d-82b5-3a2f73b5d35d",
   "metadata": {},
   "source": [
    "## Exercise 03: Regularized Logistic Loss Function"
   ]
  },
  {
   "cell_type": "code",
   "execution_count": null,
   "id": "83a75815-9f46-45c6-9f7c-3c26a353c9fa",
   "metadata": {},
   "outputs": [],
   "source": [
    "import numpy as np\n",
    "from ex03.logistic_loss_reg import reg_log_loss_, show_\n",
    "\n",
    "y = np.array([[1],[ 1],[ 0],[ 0],[ 1],[ 1],[ 0]])\n",
    "y_hat = np.array([[.9],[ .79],[ .12],[ .04],[ .89],[ .93],[ .01]])\n",
    "theta = np.array([[1],[ 2.5],[ 1.5],[ -0.9]])\n",
    "\n",
    "print(\"# Example 1:\")\n",
    "my_res = reg_log_loss_(y, y_hat, theta, .5)\n",
    "expected_res = 0.43377043716475955\n",
    "show_(my_res, expected_res)\n",
    "\n",
    "print(\"\\n# Example 2:\")\n",
    "my_res = reg_log_loss_(y, y_hat, theta, .05)\n",
    "expected_res = 0.13452043716475953\n",
    "show_(my_res, expected_res)\n",
    "\n",
    "print(\"\\n# Example 3:\")\n",
    "my_res = reg_log_loss_(y, y_hat, theta, .9)\n",
    "expected_res = 0.6997704371647596\n",
    "show_(my_res, expected_res)"
   ]
  },
  {
   "cell_type": "markdown",
   "id": "084df839-7b24-4a0b-b88e-6c69d11296ea",
   "metadata": {},
   "source": [
    "## Exercise 04: Regularized Linear Gradient"
   ]
  },
  {
   "cell_type": "code",
   "execution_count": null,
   "id": "7f2f2559-c8dc-4456-a31b-c24437e4305f",
   "metadata": {},
   "outputs": [],
   "source": [
    "import numpy as np\n",
    "from ex04.reg_linear_grad import reg_linear_grad, vec_reg_linear_grad, show_\n",
    "\n",
    "\n",
    "x = np.array([[ -6, -7, -9],\n",
    "                [ 13, -2, 14],\n",
    "                [ -7, 14, -1],\n",
    "                [ -8, -4, 6],\n",
    "                [ -5, -9, 6],\n",
    "                [ 1, -5, 11],\n",
    "                [ 9, -11, 8]])\n",
    "y = np.array([[2], [14], [-13], [5], [12], [4], [-19]])\n",
    "theta = np.array([[7.01], [3], [10.5], [-6]])\n",
    "\n",
    "print(\"# Example 1:\")\n",
    "my_res = reg_linear_grad(y, x, theta, 1)\n",
    "expected_res = np.array([[-60.99],\n",
    "                            [-195.64714286],\n",
    "                            [863.46571429],\n",
    "                            [-644.52142857]])\n",
    "show_(my_res, expected_res)\n",
    "\n",
    "print(\"\\n# Example 2:\")\n",
    "my_res = vec_reg_linear_grad(y, x, theta, 1)\n",
    "expected_res = np.array([[-60.99],\n",
    "                            [-195.64714286],\n",
    "                            [863.46571429],\n",
    "                            [-644.52142857]])\n",
    "show_(my_res, expected_res)\n",
    "\n",
    "print(\"\\n# Example 3:\")\n",
    "my_res = reg_linear_grad(y, x, theta, 0.5)\n",
    "expected_res = np.array([[-60.99],\n",
    "                            [-195.86142857],\n",
    "                            [862.71571429],\n",
    "                            [-644.09285714]])\n",
    "show_(my_res, expected_res)\n",
    "\n",
    "print(\"\\n# Example 4:\")\n",
    "my_res = vec_reg_linear_grad(y, x, theta, 0.5)\n",
    "expected_res = np.array([[-60.99 ],\n",
    "                            [-195.86142857],\n",
    "                            [862.71571429],\n",
    "                            [-644.09285714]])\n",
    "show_(my_res, expected_res)\n",
    "\n",
    "print(\"\\n# Example 5:\")\n",
    "my_res = reg_linear_grad(y, x, theta, 0.0)\n",
    "expected_res = np.array([[-60.99],\n",
    "                            [-196.07571429],\n",
    "                            [861.96571429],\n",
    "                            [-643.66428571]])\n",
    "show_(my_res, expected_res)\n",
    "\n",
    "print(\"\\n# Example 6:\")\n",
    "my_res = vec_reg_linear_grad(y, x, theta, 0.0)\n",
    "expected_res = np.array([[-60.99 ],\n",
    "                            [-196.07571429],\n",
    "                            [861.96571429],\n",
    "                            [-643.66428571]])\n",
    "show_(my_res, expected_res)"
   ]
  },
  {
   "cell_type": "markdown",
   "id": "5fd60518-e68b-4254-bfe2-5166dd7dcfc0",
   "metadata": {},
   "source": [
    "## Exercise 05: Regularized Logistic Gradient"
   ]
  },
  {
   "cell_type": "code",
   "execution_count": null,
   "id": "4a02f67a-2560-43c4-a0ff-f833ad93699a",
   "metadata": {},
   "outputs": [],
   "source": [
    "import numpy as np\n",
    "from ex05.reg_logistic_grad import reg_logistic_grad, vec_reg_logistic_grad, show_\n",
    "\n",
    "x = np.array([[0, 2, 3, 4],\n",
    "                [2, 4, 5, 5],\n",
    "                [1, 3, 2, 7]])\n",
    "y = np.array([[0], [1], [1]])\n",
    "theta = np.array([[-2.4], [-1.5], [0.3], [-1.4], [0.7]])\n",
    "\n",
    "print(\"# Example 1.1:\")\n",
    "my_res = reg_logistic_grad(y, x, theta, 1)\n",
    "expected_result = np.array([[-0.55711039],\n",
    "                            [-1.40334809],\n",
    "                            [-1.91756886],\n",
    "                            [-2.56737958],\n",
    "                            [-3.03924017]])\n",
    "show_(my_res, expected_result)\n",
    "\n",
    "print(\"\\n# Example 1.2:\")\n",
    "my_res = vec_reg_logistic_grad(y, x, theta, 1)\n",
    "expected_result = np.array([[-0.55711039],\n",
    "                            [-1.40334809],\n",
    "                            [-1.91756886],\n",
    "                            [-2.56737958],\n",
    "                            [-3.03924017]])\n",
    "show_(my_res, expected_result)\n",
    "\n",
    "print(\"\\n# Example 2.1:\")\n",
    "my_res = reg_logistic_grad(y, x, theta, 0.5)\n",
    "expected_result = np.array([[-0.55711039],\n",
    "                            [-1.15334809],\n",
    "                            [-1.96756886],\n",
    "                            [-2.33404624],\n",
    "                            [-3.15590684]])\n",
    "show_(my_res, expected_result)\n",
    "\n",
    "print(\"\\n# Example 2.2:\")\n",
    "my_res = vec_reg_logistic_grad(y, x, theta, 0.5)\n",
    "expected_resut = np.array([[-0.55711039],\n",
    "                            [-1.15334809],\n",
    "                            [-1.96756886],\n",
    "                            [-2.33404624],\n",
    "                            [-3.15590684]])\n",
    "show_(my_res, expected_result)\n",
    "\n",
    "print(\"\\n# Example 3.1:\")\n",
    "my_res = reg_logistic_grad(y, x, theta, 0.0)\n",
    "expected_result = np.array([[-0.55711039],\n",
    "                            [-0.90334809],\n",
    "                            [-2.01756886],\n",
    "                            [-2.10071291],\n",
    "                            [-3.27257351]])\n",
    "show_(my_res, expected_result)\n",
    "\n",
    "print(\"\\n# Example 3.2:\")\n",
    "my_res = vec_reg_logistic_grad(y, x, theta, 0.0)\n",
    "expected_result = np.array([[-0.55711039],\n",
    "                            [-0.90334809],\n",
    "                            [-2.01756886],\n",
    "                            [-2.10071291],\n",
    "                            [-3.27257351]])\n",
    "show_(my_res, expected_result)"
   ]
  },
  {
   "cell_type": "markdown",
   "id": "91265397-f721-46a2-b8c4-ddaa547e9ed4",
   "metadata": {},
   "source": [
    "## Exercise 06: Ridge Regression"
   ]
  },
  {
   "cell_type": "code",
   "execution_count": null,
   "id": "8320c490-cca3-4e17-b782-eb91741e5089",
   "metadata": {},
   "outputs": [],
   "source": [
    "import numpy as np\n",
    "import sys\n",
    "from ex06.ridge import MyRidge\n",
    "\n",
    "X = np.arange(1, 10).reshape(-1,1)\n",
    "y =  5 *X - 2\n",
    "\n",
    "thetas_1 = np.array([[1], [1]])\n",
    "model_1 = MyRidge(thetas_1)\n",
    "model_2 = MyRidge(thetas_1)"
   ]
  },
  {
   "cell_type": "code",
   "execution_count": null,
   "id": "bb1c6a09",
   "metadata": {},
   "outputs": [],
   "source": [
    "print(f\"{model_1.thetas = }\")\n",
    "print(f\"{model_1.alpha = }\")\n",
    "print(f\"{model_1.max_iter = }\")\n",
    "print(f\"{model_1.lambda_ = }\")\n",
    "model_1.get_params_()"
   ]
  },
  {
   "cell_type": "code",
   "execution_count": null,
   "id": "72dedd60",
   "metadata": {},
   "outputs": [],
   "source": [
    "# set_params is working properly:\n",
    "model_1.set_params_({'max_iter':10000, 'alpha': 0.01})\n",
    "model_2.set_params_({'max_iter':10000, 'alpha': 0.01, 'lambda_': 0.0})"
   ]
  },
  {
   "cell_type": "code",
   "execution_count": null,
   "id": "152696c0",
   "metadata": {},
   "outputs": [],
   "source": [
    "# get_params is working properly\n",
    "print(model_1.get_params_())\n",
    "print(model_2.get_params_())"
   ]
  },
  {
   "cell_type": "code",
   "execution_count": null,
   "id": "2b3c5182",
   "metadata": {},
   "outputs": [],
   "source": [
    "# fit_ is owrking properly\n",
    "model_1.fit_(X, y)\n",
    "model_2.fit_(X, y)"
   ]
  },
  {
   "cell_type": "code",
   "execution_count": null,
   "id": "2ec8b6de",
   "metadata": {},
   "outputs": [],
   "source": [
    "# Value of thetas after training\n",
    "print(f\"thetas values of model_1:\\n{model_1.thetas}\")\n",
    "print(f\"thetas values of model_2:\\n{model_2.thetas}\")"
   ]
  },
  {
   "cell_type": "code",
   "execution_count": null,
   "id": "c8289547",
   "metadata": {},
   "outputs": [],
   "source": [
    "# Predict is working properly\n",
    "pred_1 = model_1.predict_(X)\n",
    "pred_2 = model_2.predict_(X)"
   ]
  },
  {
   "cell_type": "code",
   "execution_count": null,
   "id": "39913c63",
   "metadata": {},
   "outputs": [],
   "source": [
    "# loss_ is working properly\n",
    "loss_1 = model_1.loss_(y, pred_1)\n",
    "loss_2 = model_2.loss_(y, pred_2)\n",
    "print(f\"{loss_1 = }\")\n",
    "print(f\"{loss_2 = }\")"
   ]
  },
  {
   "cell_type": "code",
   "execution_count": null,
   "id": "413418cf",
   "metadata": {},
   "outputs": [],
   "source": [
    "# loss_elem_ is working properly:\n",
    "loss_elem_1 = model_1.loss_elem_(y, pred_1)\n",
    "loss_elem_2 = model_2.loss_elem_(y, pred_2)\n",
    "print(f\"value of loss_elem_1:\\n{loss_elem_1}\")\n",
    "print(f\"value of loss_elem_2:\\n{loss_elem_2}\")"
   ]
  },
  {
   "cell_type": "code",
   "execution_count": null,
   "id": "c421aef7",
   "metadata": {},
   "outputs": [],
   "source": [
    "# l2 is working properly:\n",
    "l2_1 = model_1.l2()\n",
    "l2_2 = model_2.l2()\n",
    "print(f\"value of l2 of model_1:\\n{l2_1}\")\n",
    "print(f\"value of l2 of model_2:\\n{l2_2}\")"
   ]
  },
  {
   "cell_type": "code",
   "execution_count": null,
   "id": "0a918878",
   "metadata": {},
   "outputs": [],
   "source": [
    "# gradient_ is working properly\n",
    "print(\"gradient of model_1 after fit:\\n\", model_1.gradient_(X, y))\n",
    "print(\"gradient of model_2 after fit:\\n\", model_2.gradient_(X, y))"
   ]
  },
  {
   "cell_type": "code",
   "execution_count": null,
   "id": "f90127ff-f7a1-45c5-8de2-404f0918b324",
   "metadata": {},
   "outputs": [],
   "source": [
    "# Checking the management of the type and value parameters:\n",
    "thetas_incorrect1 = '42AI'\n",
    "thetas_incorrect2 = np.array([['Intelligence'], ['Artificial'], ['42AI']])\n",
    "thetas_incorrect3 = np.array([[1.0], [-1.0], ['42AI']])\n",
    "thetas_incorrect4 = np.array([1.0, -1.0, 2.0])"
   ]
  },
  {
   "cell_type": "code",
   "execution_count": null,
   "id": "416046f7",
   "metadata": {},
   "outputs": [],
   "source": [
    "try:\n",
    "    model = MyRidge(thetas_incorrect1)\n",
    "except SystemExit:\n",
    "    s = '>> method called sys.exit'\n",
    "    print(s, file=sys.stderr)"
   ]
  },
  {
   "cell_type": "code",
   "execution_count": null,
   "id": "c9bcb0a3",
   "metadata": {},
   "outputs": [],
   "source": [
    "try:\n",
    "    model = MyRidge(thetas_incorrect2)\n",
    "except SystemExit:\n",
    "    s = '>> method called sys.exit'\n",
    "    print(s, file=sys.stderr)"
   ]
  },
  {
   "cell_type": "code",
   "execution_count": null,
   "id": "93b61356",
   "metadata": {},
   "outputs": [],
   "source": [
    "try:\n",
    "    model = MyRidge(thetas_incorrect3)\n",
    "except SystemExit:\n",
    "    s = '>> method called sys.exit'\n",
    "    print(s, file=sys.stderr)"
   ]
  },
  {
   "cell_type": "code",
   "execution_count": null,
   "id": "6c8b103b",
   "metadata": {},
   "outputs": [],
   "source": [
    "try:\n",
    "    model = MyRidge(thetas_incorrect4)\n",
    "except SystemExit:\n",
    "    s = '>> method called sys.exit'\n",
    "    print(s, file=sys.stderr)"
   ]
  },
  {
   "cell_type": "code",
   "execution_count": null,
   "id": "614a994d",
   "metadata": {},
   "outputs": [],
   "source": [
    "max_iter_incorrect1 = np.array([100])\n",
    "max_iter_incorrect2 = '42AI'\n",
    "max_iter_incorrect3 = 1000.0"
   ]
  },
  {
   "cell_type": "code",
   "execution_count": null,
   "id": "787573e5",
   "metadata": {},
   "outputs": [],
   "source": [
    "try:\n",
    "    model = MyRidge(thetas=thetas_1, max_iter=max_iter_incorrect1)\n",
    "except SystemExit:\n",
    "    s = '>> method called sys.exit'\n",
    "    print(s, file=sys.stderr)"
   ]
  },
  {
   "cell_type": "code",
   "execution_count": null,
   "id": "c6e8dad0",
   "metadata": {},
   "outputs": [],
   "source": [
    "try:\n",
    "    model = MyRidge(thetas=thetas_1, max_iter=max_iter_incorrect2)\n",
    "except SystemExit:\n",
    "    s = '>> method called sys.exit'\n",
    "    print(s, file=sys.stderr)"
   ]
  },
  {
   "cell_type": "code",
   "execution_count": null,
   "id": "85bb3158",
   "metadata": {},
   "outputs": [],
   "source": [
    "try:\n",
    "    model = MyRidge(thetas=thetas_1, max_iter=max_iter_incorrect3)\n",
    "except SystemExit:\n",
    "    s = '>> method called sys.exit'\n",
    "    print(s, file=sys.stderr)"
   ]
  },
  {
   "cell_type": "code",
   "execution_count": null,
   "id": "2648d652",
   "metadata": {},
   "outputs": [],
   "source": [
    "X = np.arange(0, 100).reshape(10,10)\n",
    "y_test1 = np.random.rand(12).reshape(-1,1)\n",
    "y_test2 = np.random.rand(13).reshape(-1,1)"
   ]
  },
  {
   "cell_type": "code",
   "execution_count": null,
   "id": "4c164c1d",
   "metadata": {},
   "outputs": [],
   "source": [
    "# Mismatch between X and thetas. None is expected\n",
    "model_1.predict_(X)"
   ]
  },
  {
   "cell_type": "code",
   "execution_count": null,
   "id": "c9cb2dc9",
   "metadata": {},
   "outputs": [],
   "source": [
    "# Mismatch between y_test1 and y_test2.\n",
    "try:\n",
    "    model_1.loss_(y_test1, y_test2)\n",
    "except SystemExit:\n",
    "    s = '>> method called sys.exit'\n",
    "    print(s, file=sys.stderr)"
   ]
  },
  {
   "cell_type": "code",
   "execution_count": null,
   "id": "4d092a8f",
   "metadata": {},
   "outputs": [],
   "source": [
    "# Mismatch between X and thetas. None is expected\n",
    "try:\n",
    "    model_1.loss_elem_(y_test1, y_test2)\n",
    "except SystemExit:\n",
    "    s = '>> method called sys.exit'\n",
    "    print(s, file=sys.stderr)"
   ]
  },
  {
   "cell_type": "code",
   "execution_count": null,
   "id": "6921be77",
   "metadata": {},
   "outputs": [],
   "source": [
    "# Mismatch between X and thetas. None is expected\n",
    "try:\n",
    "    model_1.fit_(X, y)\n",
    "except SystemExit:\n",
    "    s = '>> method called sys.exit'\n",
    "    print(s, file=sys.stderr)"
   ]
  },
  {
   "cell_type": "markdown",
   "id": "95d73e70-c8a6-4673-b143-303db9bae9cc",
   "metadata": {},
   "source": [
    "## Exercise 07: Practicing Ridge Regression"
   ]
  },
  {
   "cell_type": "code",
   "execution_count": null,
   "id": "12dbc2e3-f940-4ef8-94fa-2d791daea591",
   "metadata": {},
   "outputs": [],
   "source": []
  },
  {
   "cell_type": "code",
   "execution_count": null,
   "id": "1680cd20-2523-4ec3-af12-71726df61850",
   "metadata": {},
   "outputs": [],
   "source": []
  },
  {
   "cell_type": "markdown",
   "id": "36342d6d-b5da-457f-988f-2b32fcd55478",
   "metadata": {},
   "source": [
    "## Exercise 08: Regularized Logistic Regression"
   ]
  },
  {
   "cell_type": "code",
   "execution_count": null,
   "id": "ca4fb28d-542a-4d31-8dab-0bc4a2e6e148",
   "metadata": {},
   "outputs": [],
   "source": []
  },
  {
   "cell_type": "code",
   "execution_count": null,
   "id": "605baf17-5cf4-4cff-a30b-8e40c62ac25b",
   "metadata": {},
   "outputs": [],
   "source": []
  },
  {
   "cell_type": "markdown",
   "id": "f7719357-2be1-4bae-b0d4-516c0f1028ed",
   "metadata": {},
   "source": [
    "## Exercise 09: Practicing Regularized Logistic Regression"
   ]
  },
  {
   "cell_type": "code",
   "execution_count": null,
   "id": "7f3d7d9d-a725-4728-8827-d2ffeca4d1db",
   "metadata": {},
   "outputs": [],
   "source": []
  },
  {
   "cell_type": "code",
   "execution_count": null,
   "id": "41b3f772-c8b4-4fdf-9ef6-d3b346f9795d",
   "metadata": {},
   "outputs": [],
   "source": []
  }
 ],
 "metadata": {
  "kernelspec": {
   "display_name": "Python 3 (ipykernel)",
   "language": "python",
   "name": "python3"
  },
  "language_info": {
   "codemirror_mode": {
    "name": "ipython",
    "version": 3
   },
   "file_extension": ".py",
   "mimetype": "text/x-python",
   "name": "python",
   "nbconvert_exporter": "python",
   "pygments_lexer": "ipython3",
   "version": "3.8.10"
  }
 },
 "nbformat": 4,
 "nbformat_minor": 5
}
