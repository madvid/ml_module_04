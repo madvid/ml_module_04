{
 "cells": [
  {
   "cell_type": "markdown",
   "id": "727d6763-c2a7-472d-bd87-76b892277864",
   "metadata": {},
   "source": [
    "# Machine Learning module 04\n",
    "... bla bla bla ..."
   ]
  },
  {
   "cell_type": "markdown",
   "id": "8350d7d0-5400-457f-8af6-0339d55d95f0",
   "metadata": {},
   "source": [
    "## Exercise 00"
   ]
  },
  {
   "cell_type": "code",
   "execution_count": null,
   "id": "fc7e1f57-01b4-480c-b5f6-9a7c6c77dd4b",
   "metadata": {},
   "outputs": [],
   "source": [
    "import numpy as np\n",
    "from ex00.polynomial_model_extended import add_polynomial_features\n",
    "\n",
    "x = np.arange(1,11).reshape(5, 2)\n",
    "print(\"valeur de x:\\n\", x)\n",
    "\n",
    "print(\"# Example 1:\")\n",
    "my_res = add_polynomial_features(x, 3)\n",
    "expected_res = np.array([[1, 2, 1, 4, 1, 8],\n",
    "                         [3, 4, 9, 16, 27, 64],\n",
    "                         [5, 6, 25, 36, 125, 216],\n",
    "                         [7, 8, 49, 64, 343, 512],\n",
    "                         [9, 10, 81, 100, 729, 1000]])\n",
    "print(\"my_res:\\n\", my_res)\n",
    "print(\"expected_res:\\n\", expected_res)\n",
    "\n",
    "print(\"# Example 2:\")\n",
    "my_res = add_polynomial_features(x, 5)\n",
    "expected_res = np.array([[1, 2, 1, 4, 1, 8, 1, 16],\n",
    "                         [3, 4, 9, 16, 27, 64, 81, 256],\n",
    "                         [5, 6, 25, 36, 125, 216, 625, 1296],\n",
    "                         [7, 8, 49, 64, 343, 512, 2401, 4096],\n",
    "                         [9, 10, 81, 100, 729, 1000, 6561, 10000]])\n",
    "print(\"my_res:\\n\", my_res)\n",
    "print(\"expected_res:\\n\", expected_res)"
   ]
  },
  {
   "cell_type": "code",
   "execution_count": null,
   "id": "72b558b7",
   "metadata": {},
   "outputs": [],
   "source": [
    "x = np.arange(1,9)\n",
    "x\n",
    "add_polynomial_features(x, 3)"
   ]
  },
  {
   "cell_type": "markdown",
   "id": "964898c1-36eb-4886-a8f6-46de3af9ec51",
   "metadata": {},
   "source": [
    "## Exercise 01"
   ]
  },
  {
   "cell_type": "code",
   "execution_count": 3,
   "id": "638aab6b-d0b8-45d2-9859-ba882826522d",
   "metadata": {},
   "outputs": [
    {
     "ename": "ValueError",
     "evalue": "shapes (6,1) and (6,1) not aligned: 1 (dim 1) != 6 (dim 0)",
     "output_type": "error",
     "traceback": [
      "\u001b[0;31m---------------------------------------------------------------------------\u001b[0m",
      "\u001b[0;31mValueError\u001b[0m                                Traceback (most recent call last)",
      "\u001b[1;32m/mnt/nfs/homes/mdavid/sgoinfre/bootcamp_ml_github/ml_module_04/overview.ipynb Cell 6'\u001b[0m in \u001b[0;36m<cell line: 14>\u001b[0;34m()\u001b[0m\n\u001b[1;32m     <a href='vscode-notebook-cell:/mnt/nfs/homes/mdavid/sgoinfre/bootcamp_ml_github/ml_module_04/overview.ipynb#ch0000005?line=11'>12</a>\u001b[0m \u001b[39m911.0\u001b[39m\n\u001b[1;32m     <a href='vscode-notebook-cell:/mnt/nfs/homes/mdavid/sgoinfre/bootcamp_ml_github/ml_module_04/overview.ipynb#ch0000005?line=12'>13</a>\u001b[0m \u001b[39m# Example 2:\u001b[39;00m\n\u001b[0;32m---> <a href='vscode-notebook-cell:/mnt/nfs/homes/mdavid/sgoinfre/bootcamp_ml_github/ml_module_04/overview.ipynb#ch0000005?line=13'>14</a>\u001b[0m l2(x)\n\u001b[1;32m     <a href='vscode-notebook-cell:/mnt/nfs/homes/mdavid/sgoinfre/bootcamp_ml_github/ml_module_04/overview.ipynb#ch0000005?line=14'>15</a>\u001b[0m \u001b[39m# Output:\u001b[39;00m\n\u001b[1;32m     <a href='vscode-notebook-cell:/mnt/nfs/homes/mdavid/sgoinfre/bootcamp_ml_github/ml_module_04/overview.ipynb#ch0000005?line=15'>16</a>\u001b[0m \u001b[39m911.0\u001b[39m\n",
      "File \u001b[0;32m/sgoinfre/goinfre/Perso/mdavid/bootcamp_ml_github/ml_module_04/ex01/l2_reg.py:69\u001b[0m, in \u001b[0;36ml2\u001b[0;34m(theta)\u001b[0m\n\u001b[1;32m     <a href='file:///sgoinfre/goinfre/Perso/mdavid/bootcamp_ml_github/ml_module_04/ex01/l2_reg.py?line=65'>66</a>\u001b[0m     \u001b[39mprint\u001b[39m(s, file\u001b[39m=\u001b[39msys\u001b[39m.\u001b[39mstderr)\n\u001b[1;32m     <a href='file:///sgoinfre/goinfre/Perso/mdavid/bootcamp_ml_github/ml_module_04/ex01/l2_reg.py?line=66'>67</a>\u001b[0m     \u001b[39mreturn\u001b[39;00m \u001b[39mNone\u001b[39;00m\n\u001b[0;32m---> <a href='file:///sgoinfre/goinfre/Perso/mdavid/bootcamp_ml_github/ml_module_04/ex01/l2_reg.py?line=68'>69</a>\u001b[0m l2 \u001b[39m=\u001b[39m np\u001b[39m.\u001b[39;49mdot(theta[\u001b[39m1\u001b[39;49m:], theta[\u001b[39m1\u001b[39;49m:])\n\u001b[1;32m     <a href='file:///sgoinfre/goinfre/Perso/mdavid/bootcamp_ml_github/ml_module_04/ex01/l2_reg.py?line=69'>70</a>\u001b[0m \u001b[39mreturn\u001b[39;00m l2\n",
      "File \u001b[0;32m<__array_function__ internals>:180\u001b[0m, in \u001b[0;36mdot\u001b[0;34m(*args, **kwargs)\u001b[0m\n",
      "\u001b[0;31mValueError\u001b[0m: shapes (6,1) and (6,1) not aligned: 1 (dim 1) != 6 (dim 0)"
     ]
    }
   ],
   "source": [
    "import numpy as np\n",
    "from ex01.l2_reg import iterative_l2, l2\n",
    "\n",
    "def show_(my_res, expected_res):\n",
    "    print(\"My regularization:\".ljust(25), my_res)\n",
    "    print(\"Expected regularization:\".ljust(25), expected_res)\n",
    "\n",
    "x = np.array([[2],[ 14],[ -13],[ 5],[ 12],[ 4],[ -19]])\n",
    "\n",
    "print(\"# Example 1:\")\n",
    "my_res = iterative_l2(x)\n",
    "# Output:\n",
    "expect_res = 911.0\n",
    "print(\"# Example 2:\")\n",
    "my_res = l2(x)\n",
    "# Output:\n",
    "expect_res = 911.0\n",
    "y = np.array([[3],[0.5],[-6]])\n",
    "print(\"# Example 3:\")\n",
    "my_res = iterative_l2(y)\n",
    "# Output:\n",
    "expect_res = 36.25\n",
    "print(\"# Example 4:\")\n",
    "my_res = l2(y)\n",
    "# Output:\n",
    "expect_res = 36.25"
   ]
  },
  {
   "cell_type": "markdown",
   "id": "b6a5dc1f-2adb-430b-96b2-fed2dc1561c6",
   "metadata": {},
   "source": [
    "## Exercise 02"
   ]
  },
  {
   "cell_type": "code",
   "execution_count": 2,
   "id": "ad744d26-76a3-44f0-ae50-09e410629ab2",
   "metadata": {},
   "outputs": [
    {
     "name": "stdout",
     "output_type": "stream",
     "text": [
      "# Example 1:\n",
      "My regularized linear loss:         0.8503571428571429\n",
      "Expected regularized linear loss:   0.8503571428571429\n",
      "\n",
      "# Example 2:\n",
      "My regularized linear loss:         0.5511071428571429\n",
      "Expected regularized linear loss:   0.5511071428571429\n",
      "\n",
      "# Example 3:\n",
      "My regularized linear loss:         1.116357142857143\n",
      "Expected regularized linear loss:   1.116357142857143\n"
     ]
    }
   ],
   "source": [
    "import numpy as np\n",
    "from ex02.linear_loss_reg import reg_loss_\n",
    "\n",
    "y = np.array([[2],[ 14],[ -13],[ 5],[ 12],[ 4],[ -19]])\n",
    "y_hat = np.array([[3],[ 13],[ -11.5],[ 5],[ 11],[ 5],[ -20]])\n",
    "theta = np.array([[1],[ 2.5],[ 1.5],[ -0.9]])\n",
    "\n",
    "def show_(my_res, expected_res):\n",
    "    print(\"My regularized linear loss:\".ljust(35), my_res)\n",
    "    print(\"Expected regularized linear loss:\".ljust(35), expected_res)\n",
    "\n",
    "print(\"# Example 1:\")\n",
    "my_res = reg_loss_(y, y_hat, theta, .5)\n",
    "expect_res = 0.8503571428571429\n",
    "show_(my_res, expect_res)\n",
    "\n",
    "print(\"\\n# Example 2:\")\n",
    "my_res = reg_loss_(y, y_hat, theta, .05)\n",
    "expect_res = 0.5511071428571429\n",
    "show_(my_res, expect_res)\n",
    "\n",
    "print(\"\\n# Example 3:\")\n",
    "my_res = reg_loss_(y, y_hat, theta, .9)\n",
    "expect_res = 1.116357142857143\n",
    "show_(my_res, expect_res)"
   ]
  },
  {
   "cell_type": "markdown",
   "id": "af9d6cec-3259-447d-82b5-3a2f73b5d35d",
   "metadata": {},
   "source": [
    "## Exercise 03"
   ]
  },
  {
   "cell_type": "code",
   "execution_count": null,
   "id": "83a75815-9f46-45c6-9f7c-3c26a353c9fa",
   "metadata": {},
   "outputs": [],
   "source": []
  },
  {
   "cell_type": "markdown",
   "id": "084df839-7b24-4a0b-b88e-6c69d11296ea",
   "metadata": {},
   "source": [
    "## Exercise 04"
   ]
  },
  {
   "cell_type": "code",
   "execution_count": null,
   "id": "7f2f2559-c8dc-4456-a31b-c24437e4305f",
   "metadata": {},
   "outputs": [],
   "source": []
  },
  {
   "cell_type": "markdown",
   "id": "5fd60518-e68b-4254-bfe2-5166dd7dcfc0",
   "metadata": {},
   "source": [
    "## Exercise 05"
   ]
  },
  {
   "cell_type": "code",
   "execution_count": null,
   "id": "4a02f67a-2560-43c4-a0ff-f833ad93699a",
   "metadata": {},
   "outputs": [],
   "source": []
  },
  {
   "cell_type": "code",
   "execution_count": null,
   "id": "3bb9af56-de8b-495f-b84d-d9f6960d2229",
   "metadata": {},
   "outputs": [],
   "source": []
  },
  {
   "cell_type": "markdown",
   "id": "91265397-f721-46a2-b8c4-ddaa547e9ed4",
   "metadata": {},
   "source": [
    "## Exercise 06"
   ]
  },
  {
   "cell_type": "code",
   "execution_count": null,
   "id": "8320c490-cca3-4e17-b782-eb91741e5089",
   "metadata": {},
   "outputs": [],
   "source": []
  },
  {
   "cell_type": "code",
   "execution_count": null,
   "id": "f90127ff-f7a1-45c5-8de2-404f0918b324",
   "metadata": {},
   "outputs": [],
   "source": []
  },
  {
   "cell_type": "markdown",
   "id": "95d73e70-c8a6-4673-b143-303db9bae9cc",
   "metadata": {},
   "source": [
    "## Exercise 07"
   ]
  },
  {
   "cell_type": "code",
   "execution_count": null,
   "id": "12dbc2e3-f940-4ef8-94fa-2d791daea591",
   "metadata": {},
   "outputs": [],
   "source": []
  },
  {
   "cell_type": "code",
   "execution_count": null,
   "id": "1680cd20-2523-4ec3-af12-71726df61850",
   "metadata": {},
   "outputs": [],
   "source": []
  },
  {
   "cell_type": "markdown",
   "id": "36342d6d-b5da-457f-988f-2b32fcd55478",
   "metadata": {},
   "source": [
    "## Exercise 08"
   ]
  },
  {
   "cell_type": "code",
   "execution_count": null,
   "id": "ca4fb28d-542a-4d31-8dab-0bc4a2e6e148",
   "metadata": {},
   "outputs": [],
   "source": []
  },
  {
   "cell_type": "code",
   "execution_count": null,
   "id": "605baf17-5cf4-4cff-a30b-8e40c62ac25b",
   "metadata": {},
   "outputs": [],
   "source": []
  },
  {
   "cell_type": "markdown",
   "id": "f7719357-2be1-4bae-b0d4-516c0f1028ed",
   "metadata": {},
   "source": [
    "## Exercise 09"
   ]
  },
  {
   "cell_type": "code",
   "execution_count": null,
   "id": "7f3d7d9d-a725-4728-8827-d2ffeca4d1db",
   "metadata": {},
   "outputs": [],
   "source": []
  },
  {
   "cell_type": "code",
   "execution_count": null,
   "id": "41b3f772-c8b4-4fdf-9ef6-d3b346f9795d",
   "metadata": {},
   "outputs": [],
   "source": []
  }
 ],
 "metadata": {
  "kernelspec": {
   "display_name": "Python 3 (ipykernel)",
   "language": "python",
   "name": "python3"
  },
  "language_info": {
   "codemirror_mode": {
    "name": "ipython",
    "version": 3
   },
   "file_extension": ".py",
   "mimetype": "text/x-python",
   "name": "python",
   "nbconvert_exporter": "python",
   "pygments_lexer": "ipython3",
   "version": "3.8.10"
  }
 },
 "nbformat": 4,
 "nbformat_minor": 5
}
