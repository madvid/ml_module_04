{
 "cells": [
  {
   "cell_type": "markdown",
   "id": "727d6763-c2a7-472d-bd87-76b892277864",
   "metadata": {},
   "source": [
    "# Machine Learning module 04\n",
    "... bla bla bla ..."
   ]
  },
  {
   "cell_type": "markdown",
   "id": "8350d7d0-5400-457f-8af6-0339d55d95f0",
   "metadata": {},
   "source": [
    "## Exercise 00"
   ]
  },
  {
   "cell_type": "code",
   "execution_count": null,
   "id": "fc7e1f57-01b4-480c-b5f6-9a7c6c77dd4b",
   "metadata": {},
   "outputs": [],
   "source": [
    "import numpy as np\n",
    "from ex00.polynomial_model_extended import add_polynomial_features\n",
    "\n",
    "x = np.arange(1,11).reshape(5, 2)\n",
    "print(\"valeur de x:\\n\", x)\n",
    "\n",
    "print(\"# Example 1:\")\n",
    "my_res = add_polynomial_features(x, 3)\n",
    "expected_res = np.array([[1, 2, 1, 4, 1, 8],\n",
    "                         [3, 4, 9, 16, 27, 64],\n",
    "                         [5, 6, 25, 36, 125, 216],\n",
    "                         [7, 8, 49, 64, 343, 512],\n",
    "                         [9, 10, 81, 100, 729, 1000]])\n",
    "print(\"my_res:\\n\", my_res)\n",
    "print(\"expected_res:\\n\", expected_res)\n",
    "\n",
    "print(\"# Example 2:\")\n",
    "my_res = add_polynomial_features(x, 5)\n",
    "expected_res = np.array([[1, 2, 1, 4, 1, 8, 1, 16],\n",
    "                         [3, 4, 9, 16, 27, 64, 81, 256],\n",
    "                         [5, 6, 25, 36, 125, 216, 625, 1296],\n",
    "                         [7, 8, 49, 64, 343, 512, 2401, 4096],\n",
    "                         [9, 10, 81, 100, 729, 1000, 6561, 10000]])\n",
    "print(\"my_res:\\n\", my_res)\n",
    "print(\"expected_res:\\n\", expected_res)"
   ]
  },
  {
   "cell_type": "code",
   "execution_count": null,
   "id": "72b558b7",
   "metadata": {},
   "outputs": [],
   "source": [
    "x = np.arange(1,9)\n",
    "x\n",
    "add_polynomial_features(x, 3)"
   ]
  },
  {
   "cell_type": "markdown",
   "id": "964898c1-36eb-4886-a8f6-46de3af9ec51",
   "metadata": {},
   "source": [
    "## Exercise 01"
   ]
  },
  {
   "cell_type": "code",
   "execution_count": null,
   "id": "638aab6b-d0b8-45d2-9859-ba882826522d",
   "metadata": {},
   "outputs": [],
   "source": []
  },
  {
   "cell_type": "markdown",
   "id": "b6a5dc1f-2adb-430b-96b2-fed2dc1561c6",
   "metadata": {},
   "source": [
    "## Exercise 02"
   ]
  },
  {
   "cell_type": "code",
   "execution_count": null,
   "id": "ad744d26-76a3-44f0-ae50-09e410629ab2",
   "metadata": {},
   "outputs": [],
   "source": []
  },
  {
   "cell_type": "markdown",
   "id": "af9d6cec-3259-447d-82b5-3a2f73b5d35d",
   "metadata": {},
   "source": [
    "## Exercise 03"
   ]
  },
  {
   "cell_type": "code",
   "execution_count": null,
   "id": "83a75815-9f46-45c6-9f7c-3c26a353c9fa",
   "metadata": {},
   "outputs": [],
   "source": []
  },
  {
   "cell_type": "markdown",
   "id": "084df839-7b24-4a0b-b88e-6c69d11296ea",
   "metadata": {},
   "source": [
    "## Exercise 04"
   ]
  },
  {
   "cell_type": "code",
   "execution_count": null,
   "id": "7f2f2559-c8dc-4456-a31b-c24437e4305f",
   "metadata": {},
   "outputs": [],
   "source": []
  },
  {
   "cell_type": "markdown",
   "id": "5fd60518-e68b-4254-bfe2-5166dd7dcfc0",
   "metadata": {},
   "source": [
    "## Exercise 05"
   ]
  },
  {
   "cell_type": "code",
   "execution_count": null,
   "id": "4a02f67a-2560-43c4-a0ff-f833ad93699a",
   "metadata": {},
   "outputs": [],
   "source": []
  },
  {
   "cell_type": "code",
   "execution_count": null,
   "id": "3bb9af56-de8b-495f-b84d-d9f6960d2229",
   "metadata": {},
   "outputs": [],
   "source": []
  },
  {
   "cell_type": "markdown",
   "id": "91265397-f721-46a2-b8c4-ddaa547e9ed4",
   "metadata": {},
   "source": [
    "## Exercise 06"
   ]
  },
  {
   "cell_type": "code",
   "execution_count": null,
   "id": "8320c490-cca3-4e17-b782-eb91741e5089",
   "metadata": {},
   "outputs": [],
   "source": []
  },
  {
   "cell_type": "code",
   "execution_count": null,
   "id": "f90127ff-f7a1-45c5-8de2-404f0918b324",
   "metadata": {},
   "outputs": [],
   "source": []
  },
  {
   "cell_type": "markdown",
   "id": "95d73e70-c8a6-4673-b143-303db9bae9cc",
   "metadata": {},
   "source": [
    "## Exercise 07"
   ]
  },
  {
   "cell_type": "code",
   "execution_count": null,
   "id": "12dbc2e3-f940-4ef8-94fa-2d791daea591",
   "metadata": {},
   "outputs": [],
   "source": []
  },
  {
   "cell_type": "code",
   "execution_count": null,
   "id": "1680cd20-2523-4ec3-af12-71726df61850",
   "metadata": {},
   "outputs": [],
   "source": []
  },
  {
   "cell_type": "markdown",
   "id": "36342d6d-b5da-457f-988f-2b32fcd55478",
   "metadata": {},
   "source": [
    "## Exercise 08"
   ]
  },
  {
   "cell_type": "code",
   "execution_count": null,
   "id": "ca4fb28d-542a-4d31-8dab-0bc4a2e6e148",
   "metadata": {},
   "outputs": [],
   "source": []
  },
  {
   "cell_type": "code",
   "execution_count": null,
   "id": "605baf17-5cf4-4cff-a30b-8e40c62ac25b",
   "metadata": {},
   "outputs": [],
   "source": []
  },
  {
   "cell_type": "markdown",
   "id": "f7719357-2be1-4bae-b0d4-516c0f1028ed",
   "metadata": {},
   "source": [
    "## Exercise 09"
   ]
  },
  {
   "cell_type": "code",
   "execution_count": null,
   "id": "7f3d7d9d-a725-4728-8827-d2ffeca4d1db",
   "metadata": {},
   "outputs": [],
   "source": []
  },
  {
   "cell_type": "code",
   "execution_count": null,
   "id": "41b3f772-c8b4-4fdf-9ef6-d3b346f9795d",
   "metadata": {},
   "outputs": [],
   "source": []
  }
 ],
 "metadata": {
  "kernelspec": {
   "display_name": "Python 3 (ipykernel)",
   "language": "python",
   "name": "python3"
  },
  "language_info": {
   "codemirror_mode": {
    "name": "ipython",
    "version": 3
   },
   "file_extension": ".py",
   "mimetype": "text/x-python",
   "name": "python",
   "nbconvert_exporter": "python",
   "pygments_lexer": "ipython3",
   "version": "3.8.10"
  }
 },
 "nbformat": 4,
 "nbformat_minor": 5
}
